{
  "nbformat": 4,
  "nbformat_minor": 0,
  "metadata": {
    "colab": {
      "provenance": [],
      "include_colab_link": true
    },
    "kernelspec": {
      "name": "python3",
      "display_name": "Python 3"
    },
    "language_info": {
      "name": "python"
    }
  },
  "cells": [
    {
      "cell_type": "markdown",
      "metadata": {
        "id": "view-in-github",
        "colab_type": "text"
      },
      "source": [
        "<a href=\"https://colab.research.google.com/github/desmonddd/Proba/blob/main/Ejercicio_MLE.ipynb\" target=\"_parent\"><img src=\"https://colab.research.google.com/assets/colab-badge.svg\" alt=\"Open In Colab\"/></a>"
      ]
    },
    {
      "cell_type": "markdown",
      "source": [
        "\n",
        "\n",
        "Investigación:\n",
        "\n",
        "a. Menciona 5 aplicaciones de la variable aleatoria exponencial.\n",
        "\n",
        "b. ¿Qué aplicaciones de la exponencial podrían ser de utilidad en tu carrera?\n",
        "\n",
        "Crea una muestra aleatoria de 1000 datos tomados a partir de una muestra aleatoria exponencial.\n",
        "\n",
        "Calcula el MLE para tu conjunto de datos.\n",
        "\n"
      ],
      "metadata": {
        "id": "_Aku_FD7LUqr"
      }
    },
    {
      "cell_type": "markdown",
      "source": [
        "a: 1) Inversión en interés compuesto\n",
        "\n",
        "2) Crecimiento de unas bacterias\n",
        "\n",
        "3) El crecimiento de una población\n",
        "\n",
        "4) Una pandemia (covid)\n",
        "\n",
        "5) Tendencias en redes rociales "
      ],
      "metadata": {
        "id": "rSRsVmb1Lc6X"
      }
    },
    {
      "cell_type": "code",
      "execution_count": 18,
      "metadata": {
        "id": "MUhm6or6LuKs"
      },
      "outputs": [],
      "source": [
        "import seaborn as sns\n",
        "import math\n"
      ]
    },
    {
      "cell_type": "markdown",
      "source": [],
      "metadata": {
        "id": "rXIEeQ2VQs0p"
      }
    },
    {
      "cell_type": "code",
      "source": [
        "from sympy import exp\n",
        "from scipy.stats import bernoulli\n",
        "import numpy as np\n",
        "import sympy\n",
        "from sympy.abc import x, z, n\n"
      ],
      "metadata": {
        "id": "nMGELdRBQkL6"
      },
      "execution_count": 21,
      "outputs": []
    },
    {
      "cell_type": "code",
      "source": [
        "PARAMETRO = 10\n",
        "muestra = np.random.exponential(PARAMETRO,100)\n"
      ],
      "metadata": {
        "id": "U5WNUIOuXsM5"
      },
      "execution_count": 15,
      "outputs": []
    },
    {
      "cell_type": "code",
      "source": [
        "s=sum(muestra) "
      ],
      "metadata": {
        "id": "eGBK-xh_ZK7_"
      },
      "execution_count": 24,
      "outputs": []
    },
    {
      "cell_type": "code",
      "source": [
        "suma = sum(muestra)\n",
        "from sympy import exp\n",
        "l = sympy.symbols(\"l\", positive = True)\n",
        "f = (1/l**100)*exp(-s/l)\n",
        "logf = sympy.expand_log(sympy.log(f))\n",
        "lhat = sympy.solve(sympy.diff(logf,l),l)[0]\n",
        "print(\"El estimador MLE es\", lhat)\n"
      ],
      "metadata": {
        "colab": {
          "base_uri": "https://localhost:8080/"
        },
        "id": "8alR8j5OT8nL",
        "outputId": "fc8101ce-abc1-46dd-8779-b65975a61fce"
      },
      "execution_count": 23,
      "outputs": [
        {
          "output_type": "stream",
          "name": "stdout",
          "text": [
            "El estimador MLE es 9.77911642561044\n"
          ]
        }
      ]
    }
  ]
}